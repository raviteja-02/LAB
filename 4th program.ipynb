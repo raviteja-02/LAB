{
 "cells": [
  {
   "attachments": {},
   "cell_type": "markdown",
   "metadata": {},
   "source": [
    "<h1>Question</h1>\n",
    "<p>Given the following data, which specify classifications for nine ombinationsof VAR1 and VAR2 \n",
    "predict a classification for a case where VAR1=0.906and VAR2=0.606, using the result of k-means clustering with 3 means (i.e., 3centroids)\n",
    "</p>"
   ]
  },
  {
   "attachments": {},
   "cell_type": "markdown",
   "metadata": {},
   "source": [
    "<h1>Explanation:</h1>\n",
    "<p>\n",
    "To run this program, you need to install the sklearn module.<br>\n",
    "Open Command prompt and then execute the following command to install sklearn module:<br>\n",
    "pip install scikit-learn<br>\n",
    "In this program, we are going to use the following data:<br>\n",
    "<table>\n",
    "  <tr>\n",
    "    <th>VAR1</th>\n",
    "    <th>VAR2</th>\n",
    "    <th>CLASS</th>\n",
    "  </tr>\n",
    "  <tr>\n",
    "    <td>1.713</td>\n",
    "    <td>1.586</td>\n",
    "    <td>0</td>\n",
    "  </tr>\n",
    "  <tr>\n",
    "    <td>0.180</td>\n",
    "    <td>1.786</td>\n",
    "    <td>1</td>\n",
    "  </tr>\n",
    "  <tr>\n",
    "    <td>0.353</td>\n",
    "    <td>1.240</td>\n",
    "    <td>1</td>\n",
    "  </tr>\n",
    "  <tr>\n",
    "    <td>0.940</td>\n",
    "    <td>1.566</td>\n",
    "    <td>0</td>\n",
    "  </tr>\n",
    "  <tr>\n",
    "    <td>1.486</td>\n",
    "    <td>0.759</td>\n",
    "    <td>1</td>\n",
    "  </tr>\n",
    "  <tr>\n",
    "    <td>1.266</td>\n",
    "    <td>1.106</td>\n",
    "    <td>0</td>\n",
    "  </tr>\n",
    "  <tr>\n",
    "    <td>1.540</td>\n",
    "    <td>0.419</td>\n",
    "    <td>1</td>\n",
    "  </tr>\n",
    "  <tr>\n",
    "    <td>0.459</td>\n",
    "    <td>1.799</td>\n",
    "    <td>1</td>\n",
    "  </tr>\n",
    "  <tr>\n",
    "    <td>0.773</td>\n",
    "    <td>0.186</td>\n",
    "    <td>1</td>\n",
    "  </tr>\n",
    "</table>\n",
    "And, we need to apply k-means clustering with 3 means (i.e., 3 centroids).<br>\n",
    "Finally, you need to predict the class for VAR1=0.906 and VAR2=0.606.<br>\n",
    "</p>"
   ]
  },
  {
   "attachments": {},
   "cell_type": "markdown",
   "metadata": {},
   "source": [
    "<h1>LAB</h1>"
   ]
  },
  {
   "cell_type": "code",
   "execution_count": 2,
   "metadata": {},
   "outputs": [
    {
     "name": "stderr",
     "output_type": "stream",
     "text": [
      "c:\\Users\\dell\\AppData\\Local\\Programs\\Python\\Python311\\Lib\\site-packages\\sklearn\\cluster\\_kmeans.py:870: FutureWarning: The default value of `n_init` will change from 10 to 'auto' in 1.4. Set the value of `n_init` explicitly to suppress the warning\n",
      "  warnings.warn(\n"
     ]
    },
    {
     "name": "stdout",
     "output_type": "stream",
     "text": [
      "The input data is \n",
      "VAR1 \t VAR2 \t CLASS\n",
      "1.713 \t 1.586 \t 0\n",
      "0.18 \t 1.786 \t 1\n",
      "0.353 \t 1.24 \t 1\n",
      "0.94 \t 1.566 \t 0\n",
      "1.486 \t 0.759 \t 1\n",
      "1.266 \t 1.106 \t 0\n",
      "1.54 \t 0.419 \t 1\n",
      "0.459 \t 1.799 \t 1\n",
      "0.773 \t 0.186 \t 1\n",
      "====================\n",
      "The Test data to predict \n",
      "====================\n",
      "The predicted Class is :  [0]\n"
     ]
    }
   ],
   "source": [
    "from sklearn.cluster import KMeans\n",
    "import numpy as np\n",
    "\n",
    "# Creating an array for X values and an array for y values\n",
    "X = np.array([[1.713,1.586], [0.180,1.786], [0.353,1.240],\n",
    "              [0.940,1.566], [1.486,0.759],[1.266,1.106],\n",
    "              [1.540,0.419],[0.459,1.799],[0.773,0.186]])\n",
    "y = np.array([0,1,1,0,1,0,1,1,1])\n",
    "\n",
    "# Creating a KMeans object with 3 clusters and fitting the data to it\n",
    "kmeans = KMeans(n_clusters=3, random_state=0).fit(X,y)\n",
    "\n",
    "# Printing the input data\n",
    "print(\"The input data is \")\n",
    "print(\"VAR1 \\t VAR2 \\t CLASS\")\n",
    "i = 0\n",
    "for val in X:\n",
    "    print(val[0],\"\\t\",val[1],\"\\t\",y[i])\n",
    "    i += 1\n",
    "print(\"=\"*20)\n",
    "\n",
    "# Taking test data from the user\n",
    "print(\"The Test data to predict \")\n",
    "test_data = []\n",
    "VAR1 = float(input(\"Enter Value for VAR1 :\"))\n",
    "VAR2 = float(input(\"Enter Value for VAR2 :\"))\n",
    "test_data.append(VAR1)\n",
    "test_data.append(VAR2)\n",
    "print(\"=\"*20)\n",
    "\n",
    "# Predicting the class of the test data using the KMeans model\n",
    "print(\"The predicted Class is : \", kmeans.predict([test_data]))\n"
   ]
  }
 ],
 "metadata": {
  "kernelspec": {
   "display_name": "Python 3",
   "language": "python",
   "name": "python3"
  },
  "language_info": {
   "codemirror_mode": {
    "name": "ipython",
    "version": 3
   },
   "file_extension": ".py",
   "mimetype": "text/x-python",
   "name": "python",
   "nbconvert_exporter": "python",
   "pygments_lexer": "ipython3",
   "version": "3.11.1"
  },
  "orig_nbformat": 4
 },
 "nbformat": 4,
 "nbformat_minor": 2
}
