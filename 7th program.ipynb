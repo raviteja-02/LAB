{
 "cells": [
  {
   "attachments": {},
   "cell_type": "markdown",
   "metadata": {},
   "source": [
    "<h1>Question</h1>\n",
    "\n",
    "Implement naive baye's theorem to classify the English text"
   ]
  },
  {
   "attachments": {},
   "cell_type": "markdown",
   "metadata": {},
   "source": [
    "<h1>Explanation</h1>\n",
    "\n",
    "===> To run this program you need to install the pandas Module<br>\n",
    "---> pandas Module is used to read csv files<br>\n",
    "===> To install, Open Command propmt and then execute the following command<br>\n",
    "---> pip install pandas<br>\n",
    "And, then you need to install the sklearn Module<br>\n",
    "===> Open Command propmt and then execute the following command to install sklearn Module<br>\n",
    "---> pip install scikit-learn<br>\n",
    "Finally, you need to create dataset called \"Statements_data.csv\" file.<br>"
   ]
  },
  {
   "attachments": {},
   "cell_type": "markdown",
   "metadata": {},
   "source": [
    "<h1>Source Code</h1>"
   ]
  },
  {
   "cell_type": "code",
   "execution_count": null,
   "metadata": {},
   "outputs": [],
   "source": [
    "import pandas as pd\n",
    "from sklearn.model_selection import train_test_split\n",
    "from sklearn.feature_extraction.text import CountVectorizer\n",
    "from sklearn.naive_bayes import MultinomialNB\n",
    "from sklearn.metrics import accuracy_score,confusion_matrix, precision_score, recall_score\n",
    "msglbl_data = pd.read_csv('Statements_data.csv',names=['Message', 'Label'])\n",
    "print(\"The Total instances in the Dataset: \",msglbl_data.shape[0])\n",
    "msglbl_data['labelnum'] = msglbl_data.Label.map({'pos': 1,'neg': 0})\n",
    "# place the data in X and Y Vectors\n",
    "X = msglbl_data[\"Message\"]\n",
    "Y = msglbl_data.labelnum\n",
    "# to split the data into train se and test set\n",
    "Xtrain, Xtest, Ytrain, Ytest = train_test_split(X, Y)\n",
    "count_vect = CountVectorizer()\n",
    "Xtrain_dims = count_vect.fit_transform(Xtrain)\n",
    "Xtest_dims = count_vect.transform(Xtest)\n",
    "df = pd.DataFrame(Xtrain_dims.toarray(),columns=count_vect.get_feature_names_out())\n",
    "clf = MultinomialNB()\n",
    "# to fit the train data into model\n",
    "clf.fit(Xtrain_dims, Ytrain)\n",
    "# to predict the test data\n",
    "prediction = clf.predict(Xtest_dims)\n",
    "print('******** Accuracy Metrics *********')\n",
    "print('Accuracy : ', accuracy_score(Ytest, prediction))\n",
    "print('Recall : ', recall_score(Ytest, prediction))\n",
    "print('Precision : ',precision_score(Ytest, prediction))\n",
    "print('Confusion Matrix : \\n', confusion_matrix(Ytest,prediction))\n",
    "print(10*\"-\")\n",
    "# to predict the input statement\n",
    "test_stmt = [input(\"Enter any statement to predict :\")]\n",
    "test_dims = count_vect.transform(test_stmt)\n",
    "pred = clf.predict(test_dims)\n",
    "for stmt,lbl in zip(test_stmt,pred):\n",
    " if lbl == 1:\n",
    "    print(\"Statement is Positive\")\n",
    " else:\n",
    "    print(\"Statement is Negative\")"
   ]
  }
 ],
 "metadata": {
  "kernelspec": {
   "display_name": "Python 3",
   "language": "python",
   "name": "python3"
  },
  "language_info": {
   "name": "python",
   "version": "3.11.3"
  },
  "orig_nbformat": 4
 },
 "nbformat": 4,
 "nbformat_minor": 2
}
