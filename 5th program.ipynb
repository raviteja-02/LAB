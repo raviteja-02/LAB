{
 "cells": [
  {
   "attachments": {},
   "cell_type": "markdown",
   "metadata": {},
   "source": [
    "<h1>Question</h1>\n",
    "<p>The following training examples map descriptions of individuals onto high, medium and low credit-worthiness.</p>\n",
    "<p>Input attributes are (from left to right) income, recreation, job, status, age-group, home-owner.</p>\n",
    "<p>Find the unconditional probability of 'golf' and the conditional probability of 'single' given 'medRisk' in the dataset.</p>\n",
    "<p>Training Examples:</p>\n",
    "<p>medium skiing design single twenties no -> highRisk</p>\n",
    "<p>high golf trading married forties yes -> lowRisk</p>\n",
    "<p>low speedway transport married thirties yes -> medRisk</p>\n",
    "<p>medium football banking single thirties yes -> lowRisk</p>\n",
    "<p>high flying media married fifties yes -> highRisk</p>\n",
    "<p>low football security single twenties no -> medRisk</p>\n",
    "<p>medium golf media single thirties yes -> medRisk</p>\n",
    "<p>medium golf transport married forties yes -> lowRisk</p>\n",
    "<p>high skiing banking single thirties yes -> highRisk</p>\n",
    "<p>low golf unemployed married forties yes -> highRisk</p>\n",
    "<p><br>Unconditional probability of 'golf':</p>\n",
    "<p>The number of times 'golf' occurs in the dataset = 2</p>\n",
    "<p>The total number of training examples = 10</p>\n",
    "<p>Therefore, the unconditional probability of 'golf' = 2/10 = 0.2 or 20%</p>\n",
    "<p><br>Conditional probability of 'single' given 'medRisk':</p>\n",
    "<p>The number of times 'medRisk' occurs in the dataset = 2</p>\n",
    "<p>The number of times 'single' occurs in the dataset with 'medRisk' = 1</p>\n",
    "<p>Therefore, the conditional probability of 'single' given 'medRisk' = 1/2 = 0.5 or 50%</p>"
   ]
  },
  {
   "attachments": {},
   "cell_type": "markdown",
   "metadata": {},
   "source": [
    "<h1>Explanation:</h1>\n",
    "<p>\n",
    "In the given data set,<br>\n",
    "----> The total number of records are 10.<br>\n",
    "----> The number of records which contains 'golf' are 4.<br>\n",
    "----> Then, the Unconditional probability of golf : <br>\n",
    "= The number of records which contains 'golf' / total number of records<br>\n",
    " = 4 / 10 \n",
    " = 0.4<br>\n",
    "******************************<br>\n",
    "To find the Conditional probability of single given medRisk,<br>\n",
    "---> S : single<br>\n",
    "---> MR : medRisk<br>\n",
    "---> By the definition of Baye's rule( conditional \n",
    "probability ), we have<br>\n",
    " P(S ∣ MR) = P(S ∩ MR) / P(MR)<br>\n",
    " Based on the given problem statement,<br>\n",
    " P(S ∩ MR) = The number of MedRisk with Single records / \n",
    "total number of Records\n",
    " = 2 / 10 = 0.2\n",
    " and<br>\n",
    " P(MR) = The number of records with MedRisk /total number \n",
    "of Records\n",
    " = 3 / 10 = 0.3<br>\n",
    " \n",
    " Then, the Conditional probability of single given \n",
    "medRisk<br>\n",
    " P(S ∣ MR) = 0.2 / 0.3\n",
    " = 0.66666\n",
    "\n",
    "</p>"
   ]
  },
  {
   "attachments": {},
   "cell_type": "markdown",
   "metadata": {},
   "source": [
    "<h1>Source Code</h1>"
   ]
  },
  {
   "cell_type": "code",
   "execution_count": 1,
   "metadata": {},
   "outputs": [
    {
     "name": "stdout",
     "output_type": "stream",
     "text": [
      "Unconditional probability of golf: =0.4\n",
      "Conditional probability of single given medRisk: = 0.6666666666666667\n"
     ]
    }
   ],
   "source": [
    "# Define the total number of records and the number of golf records\n",
    "total_Records=10\n",
    "numGolfRecords=4\n",
    "\n",
    "# Calculate the unconditional probability of golf\n",
    "unConditionalprobGolf=numGolfRecords / total_Records\n",
    "print(\"Unconditional probability of golf: ={}\".format(unConditionalprobGolf))\n",
    "\n",
    "# Calculate the conditional probability of 'single' given 'medRisk'\n",
    "numMedRiskSingle=2\n",
    "numMedRisk=3\n",
    "probMedRiskSingle=numMedRiskSingle/total_Records\n",
    "probMedRisk=numMedRisk/total_Records\n",
    "conditionalProb=(probMedRiskSingle/probMedRisk)\n",
    "print(\"Conditional probability of single given medRisk: = {}\".format(conditionalProb))\n"
   ]
  }
 ],
 "metadata": {
  "kernelspec": {
   "display_name": "Python 3",
   "language": "python",
   "name": "python3"
  },
  "language_info": {
   "codemirror_mode": {
    "name": "ipython",
    "version": 3
   },
   "file_extension": ".py",
   "mimetype": "text/x-python",
   "name": "python",
   "nbconvert_exporter": "python",
   "pygments_lexer": "ipython3",
   "version": "3.11.3"
  },
  "orig_nbformat": 4
 },
 "nbformat": 4,
 "nbformat_minor": 2
}
