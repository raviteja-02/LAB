{
 "cells": [
  {
   "attachments": {},
   "cell_type": "markdown",
   "metadata": {},
   "source": [
    "<h1>LAB</h1>"
   ]
  },
  {
   "cell_type": "code",
   "execution_count": 12,
   "metadata": {},
   "outputs": [],
   "source": [
    "from csv import reader\n",
    "\n",
    "# Open file in read mode\n",
    "try:\n",
    "    with open('student.csv', 'r') as read_by_obj:\n",
    "        # Pass the file object to reader() to get the reader object\n",
    "        csvreader = reader(read_by_obj)\n",
    "        # Open a new text file for output\n",
    "        with open('output.txt', 'w') as output_file:\n",
    "            # Iterate over each row in the csv using reader object\n",
    "            for row in csvreader:\n",
    "                # row variable is a list that represents a row in csv\n",
    "                # Write the row to the output file\n",
    "                output_file.write(str(row) + '\\n')\n",
    "except FileNotFoundError:\n",
    "    print(\"The file 'student.csv' does not exist.\")"
   ]
  },
  {
   "attachments": {},
   "cell_type": "markdown",
   "metadata": {},
   "source": [
    ".csv file generator"
   ]
  },
  {
   "cell_type": "code",
   "execution_count": 10,
   "metadata": {},
   "outputs": [],
   "source": [
    "import random\n",
    "import csv\n",
    "\n",
    "# Generate a list of Indian names\n",
    "names = [\"Aditi\", \"Akshay\", \"Amit\", \"Ananya\", \"Anjali\", \"Ankur\", \"Aryan\", \"Divya\", \"Gaurav\", \"Kirti\", \"Madhav\", \"Mansi\", \"Neha\", \"Pranav\", \"Priya\", \"Rahul\", \"Riya\", \"Sahil\", \"Shivam\", \"Shreya\", \"Siddharth\", \"Simran\", \"Tanvi\", \"Urvashi\", \"Vaishali\", \"Vishal\"]\n",
    "\n",
    "# Generate a list of subjects\n",
    "subjects = [\"ML\", \"CD\", \"MAD\", \"DAA\", \"IOT\"]\n",
    "\n",
    "# Generate random student information\n",
    "students = []\n",
    "for i in range(20):\n",
    "    student = {}\n",
    "    student[\"Name\"] = random.choice(names)\n",
    "    student[\"Roll No.\"] = i+1\n",
    "    student[\"Subject\"] = random.choice(subjects)\n",
    "    student[\"Marks\"] = random.randint(50, 100)\n",
    "    students.append(student)\n",
    "\n",
    "# Write the student information to a CSV file\n",
    "with open(\"student.csv\", \"w\", newline=\"\") as file:\n",
    "    writer = csv.DictWriter(file, fieldnames=[\"Name\", \"Roll No.\", \"Subject\", \"Marks\"])\n",
    "    writer.writeheader()\n",
    "    for student in students:\n",
    "        writer.writerow(student)\n"
   ]
  },
  {
   "attachments": {},
   "cell_type": "markdown",
   "metadata": {},
   "source": [
    "<h1>ChatGPT</h1>"
   ]
  },
  {
   "cell_type": "code",
   "execution_count": 13,
   "metadata": {},
   "outputs": [
    {
     "name": "stdout",
     "output_type": "stream",
     "text": [
      "         Name  Roll No. Subject  Marks\n",
      "0      Vishal         1     DAA     60\n",
      "1   Siddharth         2      CD     75\n",
      "2     Urvashi         3      ML     83\n",
      "3       Ankur         4      ML     86\n",
      "4       Priya         5     IOT     71\n",
      "5        Riya         6     DAA    100\n",
      "6      Ananya         7     MAD     85\n",
      "7       Sahil         8     MAD     74\n",
      "8       Priya         9      CD     68\n",
      "9       Priya        10     DAA     68\n",
      "10     Gaurav        11      ML     74\n",
      "11      Tanvi        12     DAA     66\n",
      "12       Amit        13     MAD     97\n",
      "13      Divya        14     DAA     58\n",
      "14  Siddharth        15     DAA     63\n",
      "15     Pranav        16     IOT     71\n",
      "16      Aditi        17      ML     78\n",
      "17       Neha        18     MAD     68\n",
      "18      Aryan        19     MAD     71\n",
      "19      Tanvi        20     MAD     96\n"
     ]
    }
   ],
   "source": [
    "import pandas as pd\n",
    "\n",
    "# Load the CSV file\n",
    "df = pd.read_csv('student.csv')\n",
    "\n",
    "# Print the data\n",
    "print(df)\n",
    "\n",
    "# Write the data to a new file\n",
    "df.to_csv('output1.txt', sep='\\t', index=False)\n"
   ]
  },
  {
   "attachments": {},
   "cell_type": "markdown",
   "metadata": {},
   "source": [
    ".csv file for Salary_Data.csv"
   ]
  },
  {
   "cell_type": "code",
   "execution_count": 1,
   "metadata": {},
   "outputs": [
    {
     "ename": "PermissionError",
     "evalue": "[Errno 13] Permission denied: 'Salary_Data.csv'",
     "output_type": "error",
     "traceback": [
      "\u001b[1;31m---------------------------------------------------------------------------\u001b[0m",
      "\u001b[1;31mPermissionError\u001b[0m                           Traceback (most recent call last)",
      "Cell \u001b[1;32mIn[1], line 38\u001b[0m\n\u001b[0;32m      4\u001b[0m data \u001b[39m=\u001b[39m [\n\u001b[0;32m      5\u001b[0m     {\u001b[39m'\u001b[39m\u001b[39mYearsExperience\u001b[39m\u001b[39m'\u001b[39m: \u001b[39m1.1\u001b[39m, \u001b[39m'\u001b[39m\u001b[39mSalary\u001b[39m\u001b[39m'\u001b[39m: \u001b[39m39343\u001b[39m},\n\u001b[0;32m      6\u001b[0m     {\u001b[39m'\u001b[39m\u001b[39mYearsExperience\u001b[39m\u001b[39m'\u001b[39m: \u001b[39m1.3\u001b[39m, \u001b[39m'\u001b[39m\u001b[39mSalary\u001b[39m\u001b[39m'\u001b[39m: \u001b[39m46205\u001b[39m},\n\u001b[1;32m   (...)\u001b[0m\n\u001b[0;32m     34\u001b[0m     {\u001b[39m'\u001b[39m\u001b[39mYearsExperience\u001b[39m\u001b[39m'\u001b[39m: \u001b[39m10.5\u001b[39m, \u001b[39m'\u001b[39m\u001b[39mSalary\u001b[39m\u001b[39m'\u001b[39m: \u001b[39m121872\u001b[39m}\n\u001b[0;32m     35\u001b[0m ]\n\u001b[0;32m     37\u001b[0m \u001b[39m# Write the data to a CSV file\u001b[39;00m\n\u001b[1;32m---> 38\u001b[0m \u001b[39mwith\u001b[39;00m \u001b[39mopen\u001b[39;49m(\u001b[39m'\u001b[39;49m\u001b[39mSalary_Data.csv\u001b[39;49m\u001b[39m'\u001b[39;49m, mode\u001b[39m=\u001b[39;49m\u001b[39m'\u001b[39;49m\u001b[39mw\u001b[39;49m\u001b[39m'\u001b[39;49m, newline\u001b[39m=\u001b[39;49m\u001b[39m'\u001b[39;49m\u001b[39m'\u001b[39;49m) \u001b[39mas\u001b[39;00m file:\n\u001b[0;32m     39\u001b[0m     fieldnames \u001b[39m=\u001b[39m [\u001b[39m'\u001b[39m\u001b[39mYearsExperience\u001b[39m\u001b[39m'\u001b[39m, \u001b[39m'\u001b[39m\u001b[39mSalary\u001b[39m\u001b[39m'\u001b[39m]\n\u001b[0;32m     40\u001b[0m     writer \u001b[39m=\u001b[39m csv\u001b[39m.\u001b[39mDictWriter(file, fieldnames\u001b[39m=\u001b[39mfieldnames)\n",
      "File \u001b[1;32m~\\AppData\\Roaming\\Python\\Python311\\site-packages\\IPython\\core\\interactiveshell.py:282\u001b[0m, in \u001b[0;36m_modified_open\u001b[1;34m(file, *args, **kwargs)\u001b[0m\n\u001b[0;32m    275\u001b[0m \u001b[39mif\u001b[39;00m file \u001b[39min\u001b[39;00m {\u001b[39m0\u001b[39m, \u001b[39m1\u001b[39m, \u001b[39m2\u001b[39m}:\n\u001b[0;32m    276\u001b[0m     \u001b[39mraise\u001b[39;00m \u001b[39mValueError\u001b[39;00m(\n\u001b[0;32m    277\u001b[0m         \u001b[39mf\u001b[39m\u001b[39m\"\u001b[39m\u001b[39mIPython won\u001b[39m\u001b[39m'\u001b[39m\u001b[39mt let you open fd=\u001b[39m\u001b[39m{\u001b[39;00mfile\u001b[39m}\u001b[39;00m\u001b[39m by default \u001b[39m\u001b[39m\"\u001b[39m\n\u001b[0;32m    278\u001b[0m         \u001b[39m\"\u001b[39m\u001b[39mas it is likely to crash IPython. If you know what you are doing, \u001b[39m\u001b[39m\"\u001b[39m\n\u001b[0;32m    279\u001b[0m         \u001b[39m\"\u001b[39m\u001b[39myou can use builtins\u001b[39m\u001b[39m'\u001b[39m\u001b[39m open.\u001b[39m\u001b[39m\"\u001b[39m\n\u001b[0;32m    280\u001b[0m     )\n\u001b[1;32m--> 282\u001b[0m \u001b[39mreturn\u001b[39;00m io_open(file, \u001b[39m*\u001b[39;49margs, \u001b[39m*\u001b[39;49m\u001b[39m*\u001b[39;49mkwargs)\n",
      "\u001b[1;31mPermissionError\u001b[0m: [Errno 13] Permission denied: 'Salary_Data.csv'"
     ]
    }
   ],
   "source": [
    "import csv\n",
    "\n",
    "# Define the data as a list of dictionaries\n",
    "data = [\n",
    "    {'YearsExperience': 1.1, 'Salary': 39343},\n",
    "    {'YearsExperience': 1.3, 'Salary': 46205},\n",
    "    {'YearsExperience': 1.5, 'Salary': 37731},\n",
    "    {'YearsExperience': 2.0, 'Salary': 43525},\n",
    "    {'YearsExperience': 2.2, 'Salary': 39891},\n",
    "    {'YearsExperience': 2.9, 'Salary': 56642},\n",
    "    {'YearsExperience': 3.0, 'Salary': 60150},\n",
    "    {'YearsExperience': 3.2, 'Salary': 54445},\n",
    "    {'YearsExperience': 3.2, 'Salary': 64445},\n",
    "    {'YearsExperience': 3.7, 'Salary': 57189},\n",
    "    {'YearsExperience': 3.9, 'Salary': 63218},\n",
    "    {'YearsExperience': 4.0, 'Salary': 55794},\n",
    "    {'YearsExperience': 4.0, 'Salary': 56957},\n",
    "    {'YearsExperience': 4.1, 'Salary': 57081},\n",
    "    {'YearsExperience': 4.5, 'Salary': 61111},\n",
    "    {'YearsExperience': 4.9, 'Salary': 67938},\n",
    "    {'YearsExperience': 5.1, 'Salary': 66029},\n",
    "    {'YearsExperience': 5.3, 'Salary': 83088},\n",
    "    {'YearsExperience': 5.9, 'Salary': 81363},\n",
    "    {'YearsExperience': 6.0, 'Salary': 93940},\n",
    "    {'YearsExperience': 6.8, 'Salary': 91738},\n",
    "    {'YearsExperience': 7.1, 'Salary': 98273},\n",
    "    {'YearsExperience': 7.9, 'Salary': 101302},\n",
    "    {'YearsExperience': 8.2, 'Salary': 113812},\n",
    "    {'YearsExperience': 8.7, 'Salary': 109431},\n",
    "    {'YearsExperience': 9.0, 'Salary': 105582},\n",
    "    {'YearsExperience': 9.5, 'Salary': 116969},\n",
    "    {'YearsExperience': 9.6, 'Salary': 112635},\n",
    "    {'YearsExperience': 10.3, 'Salary': 122391},\n",
    "    {'YearsExperience': 10.5, 'Salary': 121872}\n",
    "]\n",
    "\n",
    "# Write the data to a CSV file\n",
    "with open('Salary_Data.csv', mode='w', newline='') as file:\n",
    "    fieldnames = ['YearsExperience', 'Salary']\n",
    "    writer = csv.DictWriter(file, fieldnames=fieldnames)\n",
    "\n",
    "    writer.writeheader()\n",
    "    for row in data:\n",
    "        writer.writerow(row)\n",
    "\n",
    "print('CSV file created successfully.')\n"
   ]
  }
 ],
 "metadata": {
  "kernelspec": {
   "display_name": "Python 3",
   "language": "python",
   "name": "python3"
  },
  "language_info": {
   "codemirror_mode": {
    "name": "ipython",
    "version": 3
   },
   "file_extension": ".py",
   "mimetype": "text/x-python",
   "name": "python",
   "nbconvert_exporter": "python",
   "pygments_lexer": "ipython3",
   "version": "3.11.3"
  },
  "orig_nbformat": 4
 },
 "nbformat": 4,
 "nbformat_minor": 2
}
