{
 "cells": [
  {
   "attachments": {},
   "cell_type": "markdown",
   "metadata": {},
   "source": [
    "<h1>Question</h1>\n",
    "<p>\n",
    "Extract the data from database using python\n",
    "</p>\n"
   ]
  },
  {
   "attachments": {},
   "cell_type": "markdown",
   "metadata": {},
   "source": [
    "<h1>Explanation:</h1>\n",
    "<p>\n",
    "First, you need to create a table (students) in MySQL database (SampleDB).<br>\n",
    "Open Command prompt and then execute the following command to enter into MySQL prompt.<br>\n",
    "mysql -u root -p<br>\n",
    "And then, you need to execute the following commands at MySQL prompt to create table in the database.<br>\n",
    "create database SampleDB; <br>\n",
    "use SampleDB; <br>\n",
    "CREATE TABLE students (sid VARCHAR(10), sname VARCHAR(10), age int); <br>\n",
    "INSERT INTO students VALUES('s521', 'Jhon Bob', 23); <br>\n",
    "INSERT INTO students VALUES('s522', 'Dilly', 22); <br>\n",
    "INSERT INTO students VALUES('s523', 'Kenney', 25); <br>\n",
    "INSERT INTO students VALUES('s524', 'Herny', 26); <br>\n",
    "Next, open Command prompt and then execute the following command to install mysql.connector package to connect with MySQL database through python.<br>\n",
    "pip install mysql.connector (Windows)<br>\n",
    "sudo apt-get install mysql.connector (Linux)<br>\n",
    "</p>\n"
   ]
  },
  {
   "attachments": {},
   "cell_type": "markdown",
   "metadata": {},
   "source": [
    "<h1>LAB</h1>\n"
   ]
  },
  {
   "cell_type": "code",
   "execution_count": null,
   "metadata": {},
   "outputs": [],
   "source": [
    "import mysql.connector \n",
    "# Create the connection object\n",
    "myconn = mysql.connector.connect(host = \"localhost\", user =\"root\",passwd = \"\",database=\"SampleDB\")\n",
    "# Creating the cursor object\n",
    "cur = myconn.cursor()\n",
    "# Executing the query\n",
    "cur.execute(\"select * from students\")\n",
    "# Fetching the rows from the cursor object\n",
    "result = cur.fetchall()\n",
    "print(\"Student Details are :\")\n",
    "# Printing the result\n",
    "for x in result:\n",
    "    print(x)\n",
    "# Commit the transaction\n",
    "myconn.commit()\n",
    "# Close the connection\n",
    "myconn.close()"
   ]
  },
  {
   "attachments": {},
   "cell_type": "markdown",
   "metadata": {},
   "source": [
    "<h1>ChatGPT</h1>"
   ]
  },
  {
   "cell_type": "code",
   "execution_count": null,
   "metadata": {},
   "outputs": [],
   "source": [
    "# Import the mysql.connector library\n",
    "import mysql.connector\n",
    "\n",
    "# Connect to the MySQL database using the appropriate credentials\n",
    "mydb = mysql.connector.connect(host = \"localhost\", user =\"root\",passwd = \"\",database=\"SampleDB\")\n",
    "\n",
    "# Create a cursor object to execute SQL queries\n",
    "mycursor = mydb.cursor()\n",
    "\n",
    "# Execute an SQL query to select all the data from a table called \"employees\"\n",
    "mycursor.execute(\"SELECT * FROM employees\")\n",
    "\n",
    "# Fetch all the rows from the result set\n",
    "myresult = mycursor.fetchall()\n",
    "\n",
    "# Print each row of the result set\n",
    "for row in myresult:\n",
    "    print(row)\n",
    "\n",
    "# Close the database connection to release resources\n",
    "mydb.close()\n"
   ]
  }
 ],
 "metadata": {
  "kernelspec": {
   "display_name": "Python 3",
   "language": "python",
   "name": "python3"
  },
  "language_info": {
   "codemirror_mode": {
    "name": "ipython",
    "version": 3
   },
   "file_extension": ".py",
   "mimetype": "text/x-python",
   "name": "python",
   "nbconvert_exporter": "python",
   "pygments_lexer": "ipython3",
   "version": "3.11.1"
  },
  "orig_nbformat": 4
 },
 "nbformat": 4,
 "nbformat_minor": 2
}
