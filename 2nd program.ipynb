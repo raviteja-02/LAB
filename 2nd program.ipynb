{
 "cells": [
  {
   "attachments": {},
   "cell_type": "markdown",
   "metadata": {},
   "source": [
    "<h1>LAB</h1>"
   ]
  },
  {
   "cell_type": "code",
   "execution_count": 12,
   "metadata": {},
   "outputs": [],
   "source": [
    "from csv import reader\n",
    "\n",
    "# Open file in read mode\n",
    "try:\n",
    "    with open('student.csv', 'r') as read_by_obj:\n",
    "        # Pass the file object to reader() to get the reader object\n",
    "        csvreader = reader(read_by_obj)\n",
    "        # Open a new text file for output\n",
    "        with open('output.txt', 'w') as output_file:\n",
    "            # Iterate over each row in the csv using reader object\n",
    "            for row in csvreader:\n",
    "                # row variable is a list that represents a row in csv\n",
    "                # Write the row to the output file\n",
    "                output_file.write(str(row) + '\\n')\n",
    "except FileNotFoundError:\n",
    "    print(\"The file 'student.csv' does not exist.\")"
   ]
  },
  {
   "attachments": {},
   "cell_type": "markdown",
   "metadata": {},
   "source": [
    ".csv file generator"
   ]
  },
  {
   "cell_type": "code",
   "execution_count": 10,
   "metadata": {},
   "outputs": [],
   "source": [
    "import random\n",
    "import csv\n",
    "\n",
    "# Generate a list of Indian names\n",
    "names = [\"Aditi\", \"Akshay\", \"Amit\", \"Ananya\", \"Anjali\", \"Ankur\", \"Aryan\", \"Divya\", \"Gaurav\", \"Kirti\", \"Madhav\", \"Mansi\", \"Neha\", \"Pranav\", \"Priya\", \"Rahul\", \"Riya\", \"Sahil\", \"Shivam\", \"Shreya\", \"Siddharth\", \"Simran\", \"Tanvi\", \"Urvashi\", \"Vaishali\", \"Vishal\"]\n",
    "\n",
    "# Generate a list of subjects\n",
    "subjects = [\"ML\", \"CD\", \"MAD\", \"DAA\", \"IOT\"]\n",
    "\n",
    "# Generate random student information\n",
    "students = []\n",
    "for i in range(20):\n",
    "    student = {}\n",
    "    student[\"Name\"] = random.choice(names)\n",
    "    student[\"Roll No.\"] = i+1\n",
    "    student[\"Subject\"] = random.choice(subjects)\n",
    "    student[\"Marks\"] = random.randint(50, 100)\n",
    "    students.append(student)\n",
    "\n",
    "# Write the student information to a CSV file\n",
    "with open(\"student.csv\", \"w\", newline=\"\") as file:\n",
    "    writer = csv.DictWriter(file, fieldnames=[\"Name\", \"Roll No.\", \"Subject\", \"Marks\"])\n",
    "    writer.writeheader()\n",
    "    for student in students:\n",
    "        writer.writerow(student)\n"
   ]
  },
  {
   "attachments": {},
   "cell_type": "markdown",
   "metadata": {},
   "source": [
    "<h1>ChatGPT</h1>"
   ]
  },
  {
   "cell_type": "code",
   "execution_count": 13,
   "metadata": {},
   "outputs": [
    {
     "name": "stdout",
     "output_type": "stream",
     "text": [
      "         Name  Roll No. Subject  Marks\n",
      "0      Vishal         1     DAA     60\n",
      "1   Siddharth         2      CD     75\n",
      "2     Urvashi         3      ML     83\n",
      "3       Ankur         4      ML     86\n",
      "4       Priya         5     IOT     71\n",
      "5        Riya         6     DAA    100\n",
      "6      Ananya         7     MAD     85\n",
      "7       Sahil         8     MAD     74\n",
      "8       Priya         9      CD     68\n",
      "9       Priya        10     DAA     68\n",
      "10     Gaurav        11      ML     74\n",
      "11      Tanvi        12     DAA     66\n",
      "12       Amit        13     MAD     97\n",
      "13      Divya        14     DAA     58\n",
      "14  Siddharth        15     DAA     63\n",
      "15     Pranav        16     IOT     71\n",
      "16      Aditi        17      ML     78\n",
      "17       Neha        18     MAD     68\n",
      "18      Aryan        19     MAD     71\n",
      "19      Tanvi        20     MAD     96\n"
     ]
    }
   ],
   "source": [
    "import pandas as pd\n",
    "\n",
    "# Load the CSV file\n",
    "df = pd.read_csv('student.csv')\n",
    "\n",
    "# Print the data\n",
    "print(df)\n",
    "\n",
    "# Write the data to a new file\n",
    "df.to_csv('output1.txt', sep='\\t', index=False)\n"
   ]
  }
 ],
 "metadata": {
  "kernelspec": {
   "display_name": "Python 3",
   "language": "python",
   "name": "python3"
  },
  "language_info": {
   "codemirror_mode": {
    "name": "ipython",
    "version": 3
   },
   "file_extension": ".py",
   "mimetype": "text/x-python",
   "name": "python",
   "nbconvert_exporter": "python",
   "pygments_lexer": "ipython3",
   "version": "3.11.1"
  },
  "orig_nbformat": 4
 },
 "nbformat": 4,
 "nbformat_minor": 2
}
