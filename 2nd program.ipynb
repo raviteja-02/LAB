{
 "cells": [
  {
   "attachments": {},
   "cell_type": "markdown",
   "metadata": {},
   "source": [
    "<h1>LAB</h1>"
   ]
  },
  {
   "cell_type": "code",
   "execution_count": 5,
   "metadata": {},
   "outputs": [],
   "source": [
    "from csv import reader\n",
    "\n",
    "# Open file in read mode\n",
    "try:\n",
    "    with open('student.csv', 'r') as read_by_obj:\n",
    "        # Pass the file object to reader() to get the reader object\n",
    "        csvreader = reader(read_by_obj)\n",
    "        # Open a new text file for output\n",
    "        with open('output.txt', 'w') as output_file:\n",
    "            # Iterate over each row in the csv using reader object\n",
    "            for row in csvreader:\n",
    "                # row variable is a list that represents a row in csv\n",
    "                # Write the row to the output file\n",
    "                output_file.write(str(row) + '\\n')\n",
    "except FileNotFoundError:\n",
    "    print(\"The file 'student.csv' does not exist.\")"
   ]
  },
  {
   "attachments": {},
   "cell_type": "markdown",
   "metadata": {},
   "source": [
    ".csv file generator"
   ]
  },
  {
   "cell_type": "code",
   "execution_count": 3,
   "metadata": {},
   "outputs": [],
   "source": [
    "import random\n",
    "import csv\n",
    "\n",
    "# Generate a list of Indian names\n",
    "names = [\"Aditi\", \"Akshay\", \"Amit\", \"Ananya\", \"Anjali\", \"Ankur\", \"Aryan\", \"Divya\", \"Gaurav\", \"Kirti\", \"Madhav\", \"Mansi\", \"Neha\", \"Pranav\", \"Priya\", \"Rahul\", \"Riya\", \"Sahil\", \"Shivam\", \"Shreya\", \"Siddharth\", \"Simran\", \"Tanvi\", \"Urvashi\", \"Vaishali\", \"Vishal\"]\n",
    "\n",
    "# Generate a list of subjects\n",
    "subjects = [\"Maths\", \"Science\", \"English\", \"History\", \"Geography\"]\n",
    "\n",
    "# Generate random student information\n",
    "students = []\n",
    "for i in range(20):\n",
    "    student = {}\n",
    "    student[\"Name\"] = random.choice(names)\n",
    "    student[\"Roll No.\"] = i+1\n",
    "    student[\"Subject\"] = random.choice(subjects)\n",
    "    student[\"Marks\"] = random.randint(50, 100)\n",
    "    students.append(student)\n",
    "\n",
    "# Write the student information to a CSV file\n",
    "with open(\"student.csv\", \"w\", newline=\"\") as file:\n",
    "    writer = csv.DictWriter(file, fieldnames=[\"Name\", \"Roll No.\", \"Subject\", \"Marks\"])\n",
    "    writer.writeheader()\n",
    "    for student in students:\n",
    "        writer.writerow(student)\n"
   ]
  },
  {
   "attachments": {},
   "cell_type": "markdown",
   "metadata": {},
   "source": [
    "<h1>ChatGPT</h1>"
   ]
  },
  {
   "cell_type": "code",
   "execution_count": 3,
   "metadata": {},
   "outputs": [
    {
     "name": "stdout",
     "output_type": "stream",
     "text": [
      "        Name  Roll No.    Subject  Marks\n",
      "0      Aryan         1    English     58\n",
      "1     Gaurav         2      Maths     53\n",
      "2      Kirti         3    English     63\n",
      "3      Aditi         4    Science     60\n",
      "4       Neha         5  Geography     74\n",
      "5      Sahil         6  Geography     67\n",
      "6       Amit         7      Maths     86\n",
      "7   Vaishali         8    History     96\n",
      "8      Tanvi         9    English     65\n",
      "9      Mansi        10      Maths     68\n",
      "10     Kirti        11      Maths     63\n",
      "11  Vaishali        12      Maths     78\n",
      "12    Simran        13    Science     99\n",
      "13     Mansi        14    English     52\n",
      "14    Anjali        15      Maths     57\n",
      "15     Priya        16    English     81\n",
      "16    Gaurav        17    English     94\n",
      "17     Rahul        18      Maths     72\n",
      "18    Ananya        19    History     82\n",
      "19      Amit        20    Science     81\n"
     ]
    }
   ],
   "source": [
    "import pandas as pd\n",
    "\n",
    "# Load the Excel file\n",
    "df = pd.read_csv('student.csv')\n",
    "\n",
    "# Print the data\n",
    "print(df)\n"
   ]
  }
 ],
 "metadata": {
  "kernelspec": {
   "display_name": "Python 3",
   "language": "python",
   "name": "python3"
  },
  "language_info": {
   "codemirror_mode": {
    "name": "ipython",
    "version": 3
   },
   "file_extension": ".py",
   "mimetype": "text/x-python",
   "name": "python",
   "nbconvert_exporter": "python",
   "pygments_lexer": "ipython3",
   "version": "3.11.1"
  },
  "orig_nbformat": 4
 },
 "nbformat": 4,
 "nbformat_minor": 2
}
