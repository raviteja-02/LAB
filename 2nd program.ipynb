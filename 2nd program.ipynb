{
 "cells": [
  {
   "attachments": {},
   "cell_type": "markdown",
   "metadata": {},
   "source": [
    "<h1>LAB</h1>"
   ]
  },
  {
   "cell_type": "code",
   "execution_count": 5,
   "metadata": {},
   "outputs": [],
   "source": [
    "from csv import reader\n",
    "\n",
    "# Open file in read mode\n",
    "try:\n",
    "    with open('student.csv', 'r') as read_by_obj:\n",
    "        # Pass the file object to reader() to get the reader object\n",
    "        csvreader = reader(read_by_obj)\n",
    "        # Open a new text file for output\n",
    "        with open('output.txt', 'w') as output_file:\n",
    "            # Iterate over each row in the csv using reader object\n",
    "            for row in csvreader:\n",
    "                # row variable is a list that represents a row in csv\n",
    "                # Write the row to the output file\n",
    "                output_file.write(str(row) + '\\n')\n",
    "except FileNotFoundError:\n",
    "    print(\"The file 'student.csv' does not exist.\")"
   ]
  },
  {
   "attachments": {},
   "cell_type": "markdown",
   "metadata": {},
   "source": [
    ".csv file generator"
   ]
  },
  {
   "cell_type": "code",
   "execution_count": 3,
   "metadata": {},
   "outputs": [],
   "source": [
    "import random\n",
    "import csv\n",
    "\n",
    "# Generate a list of Indian names\n",
    "names = [\"Aditi\", \"Akshay\", \"Amit\", \"Ananya\", \"Anjali\", \"Ankur\", \"Aryan\", \"Divya\", \"Gaurav\", \"Kirti\", \"Madhav\", \"Mansi\", \"Neha\", \"Pranav\", \"Priya\", \"Rahul\", \"Riya\", \"Sahil\", \"Shivam\", \"Shreya\", \"Siddharth\", \"Simran\", \"Tanvi\", \"Urvashi\", \"Vaishali\", \"Vishal\"]\n",
    "\n",
    "# Generate a list of subjects\n",
    "subjects = [\"Maths\", \"Science\", \"English\", \"History\", \"Geography\"]\n",
    "\n",
    "# Generate random student information\n",
    "students = []\n",
    "for i in range(20):\n",
    "    student = {}\n",
    "    student[\"Name\"] = random.choice(names)\n",
    "    student[\"Roll No.\"] = i+1\n",
    "    student[\"Subject\"] = random.choice(subjects)\n",
    "    student[\"Marks\"] = random.randint(50, 100)\n",
    "    students.append(student)\n",
    "\n",
    "# Write the student information to a CSV file\n",
    "with open(\"student.csv\", \"w\", newline=\"\") as file:\n",
    "    writer = csv.DictWriter(file, fieldnames=[\"Name\", \"Roll No.\", \"Subject\", \"Marks\"])\n",
    "    writer.writeheader()\n",
    "    for student in students:\n",
    "        writer.writerow(student)\n"
   ]
  },
  {
   "attachments": {},
   "cell_type": "markdown",
   "metadata": {},
   "source": [
    "<h1>ChatGPT</h1>"
   ]
  },
  {
   "cell_type": "code",
   "execution_count": 7,
   "metadata": {},
   "outputs": [
    {
     "ename": "ModuleNotFoundError",
     "evalue": "No module named 'pandas'",
     "output_type": "error",
     "traceback": [
      "\u001b[1;31m---------------------------------------------------------------------------\u001b[0m",
      "\u001b[1;31mModuleNotFoundError\u001b[0m                       Traceback (most recent call last)",
      "Cell \u001b[1;32mIn[7], line 1\u001b[0m\n\u001b[1;32m----> 1\u001b[0m \u001b[39mimport\u001b[39;00m \u001b[39mpandas\u001b[39;00m \u001b[39mas\u001b[39;00m \u001b[39mpd\u001b[39;00m\n\u001b[0;32m      3\u001b[0m \u001b[39m# Load the Excel file\u001b[39;00m\n\u001b[0;32m      4\u001b[0m df \u001b[39m=\u001b[39m pd\u001b[39m.\u001b[39mread_excel(\u001b[39m'\u001b[39m\u001b[39mstudent.csv\u001b[39m\u001b[39m'\u001b[39m, sheet_name\u001b[39m=\u001b[39m\u001b[39m'\u001b[39m\u001b[39mstudent\u001b[39m\u001b[39m'\u001b[39m)\n",
      "\u001b[1;31mModuleNotFoundError\u001b[0m: No module named 'pandas'"
     ]
    }
   ],
   "source": [
    "import pandas as pd\n",
    "\n",
    "# Load the Excel file\n",
    "df = pd.read_excel('student.csv', sheet_name='student')\n",
    "\n",
    "# Print the data\n",
    "print(df)\n"
   ]
  }
 ],
 "metadata": {
  "kernelspec": {
   "display_name": "Python 3",
   "language": "python",
   "name": "python3"
  },
  "language_info": {
   "codemirror_mode": {
    "name": "ipython",
    "version": 3
   },
   "file_extension": ".py",
   "mimetype": "text/x-python",
   "name": "python",
   "nbconvert_exporter": "python",
   "pygments_lexer": "ipython3",
   "version": "3.11.1"
  },
  "orig_nbformat": 4
 },
 "nbformat": 4,
 "nbformat_minor": 2
}
