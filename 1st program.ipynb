{
 "cells": [
  {
   "attachments": {},
   "cell_type": "markdown",
   "metadata": {},
   "source": [
    "<h1>Question</h1>\n",
    "<p>The probability that it is Friday and that a student is absent is 3%. Since there are 5 school \n",
    "days in a week, the probability that it is Friday is 20%. What is theprobability that a \n",
    "student is absent given that today is Friday? Apply Baye’s rule in python to get the \n",
    "result.(Ans: 15%)</p>"
   ]
  },
  {
   "attachments": {},
   "cell_type": "markdown",
   "metadata": {},
   "source": [
    "<h1>Explanation:</h1>\n",
    "<p>\n",
    "F : Friday<br>\n",
    "A : Absent<br>\n",
    "Based on the given problem statement,<br>\n",
    "The probability that it is Friday and that a student is absent is 3%<br>\n",
    "i.e<br>\n",
    "P(A ∩ F)= 3% = 3 / 100 = 0.03<br>\n",
    "and<br>\n",
    "The probability that it is Friday is 20%<br>\n",
    "i.e<br>\n",
    "P(F)=20% = 20/100 = 0.2<br>\n",
    "Then,<br>\n",
    "The probability that a student is absent given that today is Friday<br>\n",
    "P(A ∣ F)<br>\n",
    "By the definition of Baye's rule( conditional probability ), we have<br>\n",
    "P(A ∣ F) = P(A ∩ F) / P(F)<br>\n",
    "</p>"
   ]
  },
  {
   "attachments": {},
   "cell_type": "markdown",
   "metadata": {},
   "source": [
    "<h1>Source Code</h1>"
   ]
  },
  {
   "cell_type": "code",
   "execution_count": 2,
   "metadata": {},
   "outputs": [
    {
     "name": "stdout",
     "output_type": "stream",
     "text": [
      "15.0\n"
     ]
    }
   ],
   "source": [
    "probAbsentFriday = 0.03\n",
    "probFriday = 0.20\n",
    "#bayes formula\n",
    "#P(Absent|Friday) = P(Friday|Absent) * P(Absent) / P(Friday)\n",
    "#P(Friday|Absent) = P(FridaynAbsent) / P(Absent)\n",
    "#therefore the result\n",
    "bayesResult = (probAbsentFriday/probFriday)\n",
    "print(bayesResult * 100)"
   ]
  }
 ],
 "metadata": {
  "kernelspec": {
   "display_name": "Python 3",
   "language": "python",
   "name": "python3"
  },
  "language_info": {
   "codemirror_mode": {
    "name": "ipython",
    "version": 3
   },
   "file_extension": ".py",
   "mimetype": "text/x-python",
   "name": "python",
   "nbconvert_exporter": "python",
   "pygments_lexer": "ipython3",
   "version": "3.11.1"
  },
  "orig_nbformat": 4
 },
 "nbformat": 4,
 "nbformat_minor": 2
}
