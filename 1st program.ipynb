{
 "cells": [
  {
   "attachments": {},
   "cell_type": "markdown",
   "metadata": {},
   "source": [
    "<h1>ChatGPT</h1>"
   ]
  },
  {
   "cell_type": "code",
   "execution_count": 1,
   "metadata": {},
   "outputs": [
    {
     "name": "stdout",
     "output_type": "stream",
     "text": [
      "The probability that a student is absent given that today is Friday is 15%\n"
     ]
    }
   ],
   "source": [
    "# Define variables\n",
    "p_A_and_B = 0.03  # probability that it is Friday and a student is absent\n",
    "p_B = 0.20  # probability that it is Friday\n",
    "\n",
    "# Calculate P(A)\n",
    "p_A = 5 * p_A_and_B  # probability that a student is absent on any day of the week\n",
    "\n",
    "# Calculate P(B|A)\n",
    "p_B_given_A = p_A_and_B / p_A  # probability that it is Friday given that a student is absent\n",
    "\n",
    "# Calculate P(A|B)\n",
    "p_A_given_B = p_B_given_A * p_A / p_B  # probability that a student is absent given that it is Friday\n",
    "\n",
    "# Print the result\n",
    "print(\"The probability that a student is absent given that today is Friday is {:.0%}\".format(p_A_given_B))\n"
   ]
  },
  {
   "attachments": {},
   "cell_type": "markdown",
   "metadata": {},
   "source": [
    "<h1>LAB</h1>"
   ]
  },
  {
   "cell_type": "code",
   "execution_count": 2,
   "metadata": {},
   "outputs": [
    {
     "name": "stdout",
     "output_type": "stream",
     "text": [
      "15.0\n"
     ]
    }
   ],
   "source": [
    "probAbsentFriday = 0.03\n",
    "probFriday = 0.20\n",
    "#bayes formula\n",
    "#P(Absent|Friday) = P(Friday|Absent) * P(Absent) / P(Friday)\n",
    "#P(Friday|Absent) = P(FridaynAbsent) / P(Absent)\n",
    "#therefore the result\n",
    "bayesResult = (probAbsentFriday/probFriday)\n",
    "print(bayesResult * 100)"
   ]
  }
 ],
 "metadata": {
  "kernelspec": {
   "display_name": "Python 3",
   "language": "python",
   "name": "python3"
  },
  "language_info": {
   "codemirror_mode": {
    "name": "ipython",
    "version": 3
   },
   "file_extension": ".py",
   "mimetype": "text/x-python",
   "name": "python",
   "nbconvert_exporter": "python",
   "pygments_lexer": "ipython3",
   "version": "3.11.1"
  },
  "orig_nbformat": 4
 },
 "nbformat": 4,
 "nbformat_minor": 2
}
